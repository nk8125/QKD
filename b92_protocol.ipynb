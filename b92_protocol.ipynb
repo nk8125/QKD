{
 "cells": [
  {
   "cell_type": "code",
   "execution_count": 1,
   "metadata": {},
   "outputs": [],
   "source": [
    "import numpy as np\n",
    "from qiskit import *\n",
    "from qiskit.visualization import *"
   ]
  },
  {
   "cell_type": "code",
   "execution_count": 2,
   "metadata": {},
   "outputs": [
    {
     "name": "stdout",
     "output_type": "stream",
     "text": [
      "00101100\n"
     ]
    }
   ],
   "source": [
    "# PassPhrase=[]\n",
    "n_qubits = 8\n",
    "indx=0\n",
    "PassPhrase=\"\"\n",
    "j=\"\"\n",
    "alice_random_string = np.random.randint(2, size = n_qubits)\n",
    "for i in alice_random_string:\n",
    "    j=str(i)\n",
    "    PassPhrase = PassPhrase + j\n",
    "print(PassPhrase)"
   ]
  },
  {
   "cell_type": "code",
   "execution_count": 3,
   "metadata": {},
   "outputs": [
    {
     "name": "stdout",
     "output_type": "stream",
     "text": [
      "Enter in the 16 character passphrase to encrypt your text file \n",
      "Inside your plaintext message is:\n",
      "name,pokedex id,height,weight,type,secundary type,hp,attack,defense,sp atk,sp def,speed\n",
      "bulbasaur,1,7,69,grass,poison,45,49,49,65,65,45\n",
      "ivysaur,2,10,130,grass,poison,60,62,63,80,80,60\n",
      "venusaur,3,20,1000,grass,poison,80,82,83,100,100,80\n",
      "charmander,4,6,85,fire,None,39,52,43,60,50,65\n",
      "\n",
      "The output hex value for the entire message is:\n",
      "aeabf54b137d41857f493d70b070613b4d3ebba1e5aae154577abe2d19b6ea71ca6b5c49525a0a0aa849026e10c4d85a38743d42dfa3beb931bdc2ac7e8062048bffd5443111fe21e682671b37333da6c426b537f6123f23ecb85958a221f99e46a042612b6dd53ffdf61165f24be209394544910010e9698bb8f8b7fbab53136e6d25f66c0aa556732afb294aef7bfaae22019a1a616e27eec1f2d31294e7db768fb6f1c4ffeb1bd78930e6d4884d39f5905db6ffcdf8c9e2792a2b6422fc32284748aa69787815fa8aa22596c1b8e2dd68032c26c1c484642960a82d93049493aba4dcaa5929a10475246f292a20c72697d805eed75065c348dff5b434bc7996f29c1efaa2cf0a30c8282f931d87f91abf94a9ef10cfaa2b676db51a58deaa\n",
      "\n"
     ]
    }
   ],
   "source": [
    "from AESencryptfunc import * #import AESencryptfunc module to use functions created for this program\n",
    "import math #import math module to use function such as ceiling\n",
    "\n",
    "while(len(PassPhrase)!=16):\n",
    "    print(\"Enter in the 16 character passphrase to encrypt your text file \")\n",
    "    # PassPhrase=input()#takes in user input of char, eg. \"Iwanttolearnkung\"\n",
    "    if(len(PassPhrase)<16):#check if less than 16 characters, if so add one space character until 16 chars\n",
    "        while(len(PassPhrase)!=16):\n",
    "            PassPhrase=PassPhrase+\"\\00\"\n",
    "    if(len(PassPhrase)>16):#check if bigger than 16 characters, if so then truncate it to be only 16 chars from [0:16]\n",
    "        print(\"Your passphrase was larger than 16, truncating passphrase.\")\n",
    "        PassPhrase=PassPhrase[0:16]\n",
    "\n",
    "#open plaintext.txt file to read and encrypt\n",
    "sys.argv[1]=\"plaintext1.csv\"\n",
    "file=open(sys.argv[1], \"r\")\n",
    "message=(file.read())\n",
    "print(\"Inside your plaintext message is:\\n%s\\n\" % message)\n",
    "file.close()\n",
    "sys.argv[2]=\"ciphertext.csv\"\n",
    "message=BitVector(textstring=message)\n",
    "message=message.get_bitvector_in_hex()\n",
    "replacementptr=0\n",
    "while(replacementptr<len(message)):\n",
    "    if(message[replacementptr:replacementptr+2]=='0a'):\n",
    "        message=message[0:replacementptr]+'0d'+message[replacementptr:len(message)]\n",
    "        replacementptr=replacementptr+4\n",
    "    else:\n",
    "        replacementptr=replacementptr+2\n",
    "\n",
    "message=BitVector(hexstring=message)\n",
    "message=message.get_bitvector_in_ascii()\n",
    "#set up some parameters\n",
    "start=0#set starting pointer for the part to encrypt of the plaintext\n",
    "end=0#set ending pointer for the part to encrypt of the plaintex\n",
    "length=len(message)#check the entire size of the message\n",
    "loopmsg=0.00#create a decimal value\n",
    "loopmsg=math.ceil(length/16)+1#use formula to figure how long the message is and how many 16 character segmentss must be encrypted\n",
    "outputhex=\"\"#setup output message in hex\n",
    "\n",
    "#need to setup roundkeys here\n",
    "PassPhrase=BitVector(textstring=PassPhrase)\n",
    "roundkey1=findroundkey(PassPhrase.get_bitvector_in_hex(),1)\n",
    "roundkey2=findroundkey(roundkey1,2)\n",
    "roundkey3=findroundkey(roundkey2,3)\n",
    "roundkey4=findroundkey(roundkey3,4)\n",
    "roundkey5=findroundkey(roundkey4,5)\n",
    "roundkey6=findroundkey(roundkey5,6)\n",
    "roundkey7=findroundkey(roundkey6,7)\n",
    "roundkey8=findroundkey(roundkey7,8)\n",
    "roundkey9=findroundkey(roundkey8,9)\n",
    "roundkey10=findroundkey(roundkey9,10)\n",
    "roundkeys=[roundkey1,roundkey2,roundkey3,roundkey4,roundkey5,roundkey6,roundkey7,roundkey8,roundkey9,roundkey10]\n",
    "\n",
    "#set up FILEOUT to write\n",
    "FILEOUT = open(sys.argv[2], 'w')\n",
    "\n",
    "# set up the segement message loop parameters\n",
    "for y in range(1, loopmsg): # loop to encrypt all segments of the message\n",
    "    if(end+16<length): #if the end pointer is less than the size of the message, then set the segment to be 16 characters\n",
    "        plaintextseg = message[start:end + 16]\n",
    "    else: #or else if the end pointer is equal to or greator than the size of the message\n",
    "        plaintextseg = message[start:length]\n",
    "        for z in range(0,((end+16)-length),1): #run a while loop to pad the message segement to become 16 characters, if it is 16 already the loop will not run\n",
    "            plaintextseg = plaintextseg+\"\\00\"\n",
    "\n",
    "    #add round key zero/ find round key one\n",
    "    bv1 = BitVector(textstring=plaintextseg)\n",
    "    bv2 = PassPhrase\n",
    "    resultbv=bv1^bv2\n",
    "    myhexstring = resultbv.get_bitvector_in_hex()\n",
    "\n",
    "    for x in range(1, 10):  # loop through 9 rounds\n",
    "        # sub byte\n",
    "        myhexstring = resultbv.get_bitvector_in_hex()\n",
    "        temp1=subbyte(myhexstring)\n",
    "\n",
    "        # shift rows\n",
    "        temp2=shiftrow(temp1)\n",
    "\n",
    "        # mix column\n",
    "        bv3 = BitVector(hexstring=temp2)\n",
    "        newbvashex=mixcolumn(bv3)\n",
    "        newbv=BitVector(hexstring=newbvashex)\n",
    "\n",
    "        #add roundkey for current round\n",
    "        bv1 = BitVector(bitlist=newbv)\n",
    "        bv2 = BitVector(hexstring=roundkeys[x-1])\n",
    "        resultbv = bv1 ^ bv2\n",
    "        myhexresult = resultbv.get_bitvector_in_hex()\n",
    "\n",
    "    #start round 10\n",
    "    # sub byte round 10\n",
    "    myhexstring = resultbv.get_bitvector_in_hex()\n",
    "    temp1=subbyte(myhexstring)\n",
    "\n",
    "    # shift rows round 10\n",
    "    temp2=shiftrow(temp1)\n",
    "\n",
    "    # add round key round 10\n",
    "    newbv = BitVector(hexstring=temp2)\n",
    "    bv1 = BitVector(bitlist=newbv)\n",
    "    bv2 = BitVector(hexstring=roundkeys[9])\n",
    "    resultbv = bv1 ^ bv2\n",
    "    myhexstring = resultbv.get_bitvector_in_hex()\n",
    "\n",
    "    #set encrypted hex segement of message to output string\n",
    "    outputhextemp = resultbv.get_hex_string_from_bitvector()\n",
    "    FILEOUT.write(outputhextemp)\n",
    "    start = start + 16 #increment start pointer\n",
    "    end = end + 16 #increment end pointer\n",
    "\n",
    "# encrypted output hex string to specified cipherhex file\n",
    "FILEOUT.close()\n",
    "\n",
    "file2=open(sys.argv[2], \"r\")\n",
    "print(\"The output hex value for the entire message is:\\n%s\\n\" % file2.read())\n",
    "file2.close()"
   ]
  },
  {
   "cell_type": "markdown",
   "metadata": {},
   "source": [
    "# B92 Protocol"
   ]
  },
  {
   "cell_type": "markdown",
   "metadata": {},
   "source": [
    "## Protocol Steps\n",
    "1. Alice generates a random bit string and creates a corresponding qubit string that is mapped from the bit string as follows: 0 -> |z+>, 1 -> |x+>. Alice then sends these qubits to Bob over a public channel\n",
    "2. Bob generates a random bit string and measures Alice's qubits with the following mapping from his bit string: 0 -> {|x+>, |x->}, 1: -> {|z+>, |z->}\n",
    "3. Bob sends his measured bits back to Alice over a public channel.\n",
    "4. Alice and Bob both remoove all the bits in their strings corresponding to 0s in the string bob just sent"
   ]
  },
  {
   "cell_type": "markdown",
   "metadata": {},
   "source": [
    "### Import packages"
   ]
  },
  {
   "cell_type": "code",
   "execution_count": 4,
   "metadata": {},
   "outputs": [],
   "source": [
    "from qiskit import QuantumCircuit, Aer, transpile, assemble\n",
    "from qiskit.visualization import plot_histogram, plot_bloch_multivector\n",
    "from numpy.random import randint\n",
    "import numpy as np\n",
    "import pandas as pd"
   ]
  },
  {
   "cell_type": "markdown",
   "metadata": {},
   "source": [
    "### Define all the meta parameters we will need for the protocol\n",
    "- n: the number of bits that Alice and Bob will randomly generate in the protocol\n",
    "- test: boolean that will standardize the pseudo-random fucntions in the protocol and print the steps of the protocol along the way"
   ]
  },
  {
   "cell_type": "code",
   "execution_count": 5,
   "metadata": {},
   "outputs": [],
   "source": [
    "n = n_qubits\n",
    "test = True\n",
    "rand_seed = False"
   ]
  },
  {
   "cell_type": "code",
   "execution_count": 6,
   "metadata": {},
   "outputs": [],
   "source": [
    "if rand_seed:\n",
    "    np.random.seed(seed=0)"
   ]
  },
  {
   "cell_type": "markdown",
   "metadata": {},
   "source": [
    "### Create the qubits that Alice will send across the public channel"
   ]
  },
  {
   "cell_type": "code",
   "execution_count": 7,
   "metadata": {},
   "outputs": [],
   "source": [
    "def alice_encode(input_arr):\n",
    "    output = []\n",
    "    for bit in input_arr:\n",
    "        qc = QuantumCircuit(1,1)\n",
    "        \n",
    "        if bit == 1:\n",
    "            qc.h(0)\n",
    "        qc.barrier()\n",
    "        output.append(qc)\n",
    "    return output"
   ]
  },
  {
   "cell_type": "code",
   "execution_count": 8,
   "metadata": {},
   "outputs": [
    {
     "name": "stdout",
     "output_type": "stream",
     "text": [
      "Alice's randomly generated bits:\n",
      "[0 0 1 0 1 1 0 0]\n",
      "Alice qubits:\n",
      "      ░ \n",
      "  q: ─░─\n",
      "      ░ \n",
      "c: 1/═══\n",
      "        \n",
      "      ░ \n",
      "  q: ─░─\n",
      "      ░ \n",
      "c: 1/═══\n",
      "        \n",
      "     ┌───┐ ░ \n",
      "  q: ┤ H ├─░─\n",
      "     └───┘ ░ \n",
      "c: 1/════════\n",
      "             \n",
      "      ░ \n",
      "  q: ─░─\n",
      "      ░ \n",
      "c: 1/═══\n",
      "        \n",
      "     ┌───┐ ░ \n",
      "  q: ┤ H ├─░─\n",
      "     └───┘ ░ \n",
      "c: 1/════════\n",
      "             \n",
      "     ┌───┐ ░ \n",
      "  q: ┤ H ├─░─\n",
      "     └───┘ ░ \n",
      "c: 1/════════\n",
      "             \n",
      "      ░ \n",
      "  q: ─░─\n",
      "      ░ \n",
      "c: 1/═══\n",
      "        \n",
      "      ░ \n",
      "  q: ─░─\n",
      "      ░ \n",
      "c: 1/═══\n",
      "        \n"
     ]
    }
   ],
   "source": [
    "alice_bits = alice_random_string\n",
    "alice_qubits = alice_encode(alice_bits)\n",
    "\n",
    "alice_bits_str = ''.join(map(str, alice_bits))\n",
    "\n",
    "if test:\n",
    "    \n",
    "    print('Alice\\'s randomly generated bits:')\n",
    "    print(alice_bits)\n",
    "    \n",
    "    print('Alice qubits:')\n",
    "    for i in alice_qubits:\n",
    "        print(i)\n"
   ]
  },
  {
   "cell_type": "markdown",
   "metadata": {},
   "source": [
    "### Bob measures the qubits and sends a bit string back to Alice across the public channel\n",
    "- We define a function that take a list of qubits and a list of bits. We loop through the lists in parallel and if the corresponding bit is a 0, we measure the qubit in the x-basis and in the z-basis otherwise. We return all of the outputs in a list"
   ]
  },
  {
   "cell_type": "code",
   "execution_count": 9,
   "metadata": {},
   "outputs": [],
   "source": [
    "def bob_decode(alice_qubits, bob_bits):\n",
    "    output = []\n",
    "    for alice_qubit, bob_bit in zip(alice_qubits, bob_bits):\n",
    "        \n",
    "        # Measure in the x-basis\n",
    "        if bob_bit == 0:\n",
    "            alice_qubit.h(0)\n",
    "            alice_qubit.measure(0, 0)\n",
    "        \n",
    "        # Measure in the z-basis\n",
    "        else:\n",
    "            alice_qubit.measure(0, 0)\n",
    "            \n",
    "        # Simulate the measurement (taken directly from the qiskit example)\n",
    "        backend = Aer.get_backend('qasm_simulator')\n",
    "        qobj = assemble(alice_qubit, shots=1, memory=True)\n",
    "        execution = execute(experiments = alice_qubit.reverse_bits(), backend = backend, shots = 10)    # Shots = 1\n",
    "        results = execution.result()\n",
    "        counts = results.get_counts()\n",
    "        \n",
    "        output.append(counts)\n",
    "    return output    "
   ]
  },
  {
   "cell_type": "code",
   "execution_count": 10,
   "metadata": {},
   "outputs": [
    {
     "name": "stdout",
     "output_type": "stream",
     "text": [
      "Bob's randomly generated bits:\n",
      "[0 1 1 0 0 1 0 1]\n",
      "Bob's measurement yeild:\n",
      "[{'1': 5, '0': 5}, {'0': 10}, {'0': 5, '1': 5}, {'0': 6, '1': 4}, {'0': 10}, {'0': 6, '1': 4}, {'1': 5, '0': 5}, {'0': 10}]\n"
     ]
    }
   ],
   "source": [
    "bob_bits = randint(2, size=n)\n",
    "bob_yield = bob_decode(alice_qubits, bob_bits)\n",
    "\n",
    "if test:\n",
    "    print('Bob\\'s randomly generated bits:')\n",
    "    print(bob_bits)\n",
    "    \n",
    "    print('Bob\\'s measurement yeild:')\n",
    "    print(bob_yield)\n"
   ]
  },
  {
   "cell_type": "markdown",
   "metadata": {},
   "source": [
    "### Create the shared keys\n",
    "- We define a function that takes both Alice and Bobs original strings and removes all of the bits that correspond to a 0 in the bits Bob measured. We return a tuple of stirngs that are a concatenation of these bits"
   ]
  },
  {
   "cell_type": "code",
   "execution_count": 11,
   "metadata": {},
   "outputs": [
    {
     "name": "stdout",
     "output_type": "stream",
     "text": [
      "['0', '0', '1', '0', '1', '1', '0', '0']\n",
      "00101100\n"
     ]
    }
   ],
   "source": [
    "ans=\"\"\n",
    "arr=[]\n",
    "input_key=input(\"Enter the key\")\n",
    "for i in input_key:\n",
    "    arr.append(i)\n",
    "print(arr)\n",
    "for i in range(0,len(arr)):\n",
    "    ans=ans+arr[i]       \n",
    "print(ans)"
   ]
  },
  {
   "cell_type": "code",
   "execution_count": 12,
   "metadata": {},
   "outputs": [],
   "source": [
    "def remove_zeros(alice_bits, bob_bits, bob_yield):\n",
    "    bob_key = ''\n",
    "    alice_key = ''\n",
    "    \n",
    "    for a_bit, b_bit, b_yield in zip(alice_bits, bob_bits, bob_yield):\n",
    "        if b_yield == 1:\n",
    "            bob_key += str(b_bit)\n",
    "            alice_key += str(a_bit)\n",
    "\n",
    "    return alice_key, bob_key"
   ]
  },
  {
   "cell_type": "code",
   "execution_count": 13,
   "metadata": {},
   "outputs": [
    {
     "name": "stdout",
     "output_type": "stream",
     "text": [
      "Key strings\n",
      "Alice's key: 00101100\n",
      "Bob's key: 00101100\n"
     ]
    }
   ],
   "source": [
    "# alice_key, bob_key = remove_zeros(alice_bits, bob_bits, bob_yield)\n",
    "alice_key=alice_bits_str\n",
    "bob_key =input_key\n",
    "if test:\n",
    "    print('Key strings')\n",
    "    print(f'Alice\\'s key: {alice_key}')\n",
    "    print(f'Bob\\'s key: {bob_key}')"
   ]
  },
  {
   "cell_type": "markdown",
   "metadata": {},
   "source": [
    "### Testing Accuracy\n",
    "- We can test if the protocol worked and Alice and Bob have the same keys"
   ]
  },
  {
   "cell_type": "code",
   "execution_count": 14,
   "metadata": {},
   "outputs": [
    {
     "name": "stdout",
     "output_type": "stream",
     "text": [
      "The protocol worked and Alice and Bob have the same keys!\n"
     ]
    }
   ],
   "source": [
    "if bob_key == alice_key:\n",
    "    print('The protocol worked and Alice and Bob have the same keys!')\n",
    "else:\n",
    "    print('Something went wrong! Alice and Bob do not have the same keys!')"
   ]
  },
  {
   "cell_type": "code",
   "execution_count": 15,
   "metadata": {},
   "outputs": [
    {
     "name": "stdout",
     "output_type": "stream",
     "text": [
      "Enter in the 16 character passphrase to decrypt your text file ciphertext.csv\n",
      "Inside your ciphertext message is:\n",
      "aeabf54b137d41857f493d70b070613b4d3ebba1e5aae154577abe2d19b6ea71ca6b5c49525a0a0aa849026e10c4d85a38743d42dfa3beb931bdc2ac7e8062048bffd5443111fe21e682671b37333da6c426b537f6123f23ecb85958a221f99e46a042612b6dd53ffdf61165f24be209394544910010e9698bb8f8b7fbab53136e6d25f66c0aa556732afb294aef7bfaae22019a1a616e27eec1f2d31294e7db768fb6f1c4ffeb1bd78930e6d4884d39f5905db6ffcdf8c9e2792a2b6422fc32284748aa69787815fa8aa22596c1b8e2dd68032c26c1c484642960a82d93049493aba4dcaa5929a10475246f292a20c72697d805eed75065c348dff5b434bc7996f29c1efaa2cf0a30c8282f931d87f91abf94a9ef10cfaa2b676db51a58deaa\n",
      "\n",
      "The decrypted message for the entire ciphertext is:\n",
      "name,pokedex id,height,weight,type,secundary type,hp,attack,defense,sp atk,sp def,speed\n",
      "bulbasaur,1,7,69,grass,poison,45,49,49,65,65,45\n",
      "ivysaur,2,10,130,grass,poison,60,62,63,80,80,60\n",
      "venusaur,3,20,1000,grass,poison,80,82,83,100,100,80\n",
      "charmander,4,6,85,fire,None,39,52,43,60,50,65\n",
      "\n"
     ]
    }
   ],
   "source": [
    "from AESdecryptfunc import * \n",
    "import math \n",
    "import io\n",
    "\n",
    "sys.argv[1]=\"ciphertext.csv\"\n",
    "sys.argv[2]=\"plaintext2.csv\"\n",
    "ans=bob_key\n",
    "while(len(PassPhrase)!=16):\n",
    "    print(\"Enter in the 16 character passphrase to decrypt your text file %s\" %sys.argv[1])\n",
    "    PassPhrase=ans\n",
    "    if(len(PassPhrase)<16):\n",
    "        while(len(PassPhrase)!=16):\n",
    "            PassPhrase=PassPhrase+\"\\00\"\n",
    "    if(len(PassPhrase)>16):#check if bigger than 16 characters, if so then truncate it to be only 16 chars from [0:16]\n",
    "        print(\"Your passphrase was larger than 16, truncating passphrase.\")\n",
    "        PassPhrase=PassPhrase[0:16]\n",
    "\n",
    "#open ciphertext.txt file to read and decrypt\n",
    "file=open(sys.argv[1], \"r\")\n",
    "message=(file.read())\n",
    "print(\"Inside your ciphertext message is:\\n%s\\n\" % message)\n",
    "file.close()\n",
    "\n",
    "#set up some parameters\n",
    "start=0#set starting pointer for the part to decrypt of the ciphertext\n",
    "end=32#set ending pointer for the part to decrypt of the plaintex\n",
    "length=len(message)#check the entire size of the message\n",
    "loopmsg=0.00#create a decimal value\n",
    "loopmsg=math.ceil(length/32)+1#use formula to figure how long the message is and how many 16 character segments must be decrypted\n",
    "outputhex=\"\"#setup output message segment in hex\n",
    "asciioutput=\"\"#setup compilation of output message in ascii\n",
    "\n",
    "#need to setup roundkeys here\n",
    "PassPhrase=BitVector(textstring=PassPhrase)\n",
    "roundkey1=findroundkey(PassPhrase.get_bitvector_in_hex(),1)\n",
    "roundkey2=findroundkey(roundkey1,2)\n",
    "roundkey3=findroundkey(roundkey2,3)\n",
    "roundkey4=findroundkey(roundkey3,4)\n",
    "roundkey5=findroundkey(roundkey4,5)\n",
    "roundkey6=findroundkey(roundkey5,6)\n",
    "roundkey7=findroundkey(roundkey6,7)\n",
    "roundkey8=findroundkey(roundkey7,8)\n",
    "roundkey9=findroundkey(roundkey8,9)\n",
    "roundkey10=findroundkey(roundkey9,10)\n",
    "roundkeys=[roundkey1,roundkey2,roundkey3,roundkey4,roundkey5,roundkey6,roundkey7,roundkey8,roundkey9,roundkey10]\n",
    "\n",
    "FILEOUT = io.open(sys.argv[2], 'w', encoding='utf-8')\n",
    "\n",
    "# set up the segement message loop parameters\n",
    "for y in range(1, loopmsg): # loop to encrypt all segments of the message\n",
    "    plaintextseg = message[start:end]\n",
    "\n",
    "    # add round key\n",
    "    bv1 = BitVector(hexstring=plaintextseg)\n",
    "    bv2 = BitVector(hexstring=roundkeys[9])\n",
    "    resultbv = bv1 ^ bv2\n",
    "    myhexstring = resultbv.get_bitvector_in_hex()\n",
    "\n",
    "    #inverse shift row\n",
    "    myhexstring=invshiftrow(myhexstring)\n",
    "\n",
    "    #inverse subbyte\n",
    "    myhexstring=invsubbyte(myhexstring)\n",
    "\n",
    "    for x in range(8, -1, -1):\n",
    "        # add roundkey for current round\n",
    "        bv1 = BitVector(hexstring=myhexstring)\n",
    "        bv2 = BitVector(hexstring=roundkeys[x])\n",
    "        resultbv = bv1 ^ bv2\n",
    "        myhexstring = resultbv.get_bitvector_in_hex()\n",
    "\n",
    "        # mix column\n",
    "        bv3 = BitVector(hexstring=myhexstring)\n",
    "        myhexstring=invmixcolumn(bv3)\n",
    "\n",
    "        # shift rows\n",
    "        myhexstring = invshiftrow(myhexstring)\n",
    "\n",
    "        # sub byte\n",
    "        myhexstring = invsubbyte(myhexstring)\n",
    "\n",
    "    #add initial round key\n",
    "    bv1 = BitVector(hexstring=myhexstring)\n",
    "    bv2 = PassPhrase\n",
    "    resultbv = bv1 ^ bv2\n",
    "    myhexstring = resultbv.get_bitvector_in_hex()\n",
    "\n",
    "    start = start + 32 #increment start pointer\n",
    "    end = end + 32 #increment end pointer\n",
    "\n",
    "    replacementptr = 0\n",
    "    while (replacementptr < len(myhexstring)):\n",
    "        if (myhexstring[replacementptr:replacementptr + 2] == '0d'):\n",
    "            myhexstring = myhexstring[0:replacementptr] + myhexstring[replacementptr+2:len(myhexstring)]\n",
    "        else:\n",
    "            replacementptr = replacementptr + 2\n",
    "\n",
    "    outputhex = BitVector(hexstring=myhexstring)\n",
    "    asciioutput = outputhex.get_bitvector_in_ascii()\n",
    "    asciioutput=asciioutput.replace('\\x00','')\n",
    "    FILEOUT.write(asciioutput)\n",
    "\n",
    "FILEOUT.close()\n",
    "\n",
    "file2=io.open(sys.argv[2], \"r\", encoding='utf-8')\n",
    "print(\"The decrypted message for the entire ciphertext is:\\n%s\\n\" % file2.read())\n",
    "file2.close()"
   ]
  }
 ],
 "metadata": {
  "kernelspec": {
   "display_name": "Python 3",
   "language": "python",
   "name": "python3"
  },
  "language_info": {
   "codemirror_mode": {
    "name": "ipython",
    "version": 3
   },
   "file_extension": ".py",
   "mimetype": "text/x-python",
   "name": "python",
   "nbconvert_exporter": "python",
   "pygments_lexer": "ipython3",
   "version": "3.9.13"
  }
 },
 "nbformat": 4,
 "nbformat_minor": 4
}
